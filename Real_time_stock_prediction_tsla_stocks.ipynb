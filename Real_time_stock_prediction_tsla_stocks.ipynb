{
  "nbformat": 4,
  "nbformat_minor": 0,
  "metadata": {
    "colab": {
      "provenance": []
    },
    "kernelspec": {
      "name": "python3",
      "display_name": "Python 3"
    },
    "language_info": {
      "name": "python"
    }
  },
  "cells": [
    {
      "cell_type": "code",
      "execution_count": null,
      "metadata": {
        "id": "1It95OrOEXNL"
      },
      "outputs": [],
      "source": [
        "\n",
        "#Import the libraries\n",
        "import math\n",
        "import pandas_datareader as web\n",
        "import numpy as np\n",
        "import pandas as pd\n",
        "from sklearn.preprocessing import MinMaxScaler\n",
        "from keras.models import Sequential\n",
        "from keras.layers import Dense, LSTM\n",
        "import matplotlib.pyplot as plt\n",
        "plt.style.use('fivethirtyeight')"
      ]
    },
    {
      "cell_type": "code",
      "source": [
        "pip install yfinance\n"
      ],
      "metadata": {
        "colab": {
          "base_uri": "https://localhost:8080/"
        },
        "id": "7sJMM0WPWNAB",
        "outputId": "7d93851a-cbe6-469b-9ef0-72c31fcc73ad"
      },
      "execution_count": null,
      "outputs": [
        {
          "output_type": "stream",
          "name": "stdout",
          "text": [
            "Requirement already satisfied: yfinance in /usr/local/lib/python3.11/dist-packages (0.2.54)\n",
            "Requirement already satisfied: pandas>=1.3.0 in /usr/local/lib/python3.11/dist-packages (from yfinance) (2.2.2)\n",
            "Requirement already satisfied: numpy>=1.16.5 in /usr/local/lib/python3.11/dist-packages (from yfinance) (2.0.2)\n",
            "Requirement already satisfied: requests>=2.31 in /usr/local/lib/python3.11/dist-packages (from yfinance) (2.32.3)\n",
            "Requirement already satisfied: multitasking>=0.0.7 in /usr/local/lib/python3.11/dist-packages (from yfinance) (0.0.11)\n",
            "Requirement already satisfied: platformdirs>=2.0.0 in /usr/local/lib/python3.11/dist-packages (from yfinance) (4.3.6)\n",
            "Requirement already satisfied: pytz>=2022.5 in /usr/local/lib/python3.11/dist-packages (from yfinance) (2025.1)\n",
            "Requirement already satisfied: frozendict>=2.3.4 in /usr/local/lib/python3.11/dist-packages (from yfinance) (2.4.6)\n",
            "Requirement already satisfied: peewee>=3.16.2 in /usr/local/lib/python3.11/dist-packages (from yfinance) (3.17.9)\n",
            "Requirement already satisfied: beautifulsoup4>=4.11.1 in /usr/local/lib/python3.11/dist-packages (from yfinance) (4.13.3)\n",
            "Requirement already satisfied: soupsieve>1.2 in /usr/local/lib/python3.11/dist-packages (from beautifulsoup4>=4.11.1->yfinance) (2.6)\n",
            "Requirement already satisfied: typing-extensions>=4.0.0 in /usr/local/lib/python3.11/dist-packages (from beautifulsoup4>=4.11.1->yfinance) (4.12.2)\n",
            "Requirement already satisfied: python-dateutil>=2.8.2 in /usr/local/lib/python3.11/dist-packages (from pandas>=1.3.0->yfinance) (2.8.2)\n",
            "Requirement already satisfied: tzdata>=2022.7 in /usr/local/lib/python3.11/dist-packages (from pandas>=1.3.0->yfinance) (2025.1)\n",
            "Requirement already satisfied: charset-normalizer<4,>=2 in /usr/local/lib/python3.11/dist-packages (from requests>=2.31->yfinance) (3.4.1)\n",
            "Requirement already satisfied: idna<4,>=2.5 in /usr/local/lib/python3.11/dist-packages (from requests>=2.31->yfinance) (3.10)\n",
            "Requirement already satisfied: urllib3<3,>=1.21.1 in /usr/local/lib/python3.11/dist-packages (from requests>=2.31->yfinance) (2.3.0)\n",
            "Requirement already satisfied: certifi>=2017.4.17 in /usr/local/lib/python3.11/dist-packages (from requests>=2.31->yfinance) (2025.1.31)\n",
            "Requirement already satisfied: six>=1.5 in /usr/local/lib/python3.11/dist-packages (from python-dateutil>=2.8.2->pandas>=1.3.0->yfinance) (1.17.0)\n"
          ]
        }
      ]
    },
    {
      "cell_type": "code",
      "source": [
        "import numpy as np\n",
        "import pandas as pd\n",
        "import math\n",
        "import yfinance as yf\n",
        "from sklearn.preprocessing import MinMaxScaler\n",
        "\n",
        "# Fetch Tesla stock data\n",
        "df = yf.download('TSLA', start='2011-07-01', end='2025-03-22', auto_adjust=False)\n",
        "\n",
        "# Check available columns\n",
        "print(\"Available columns:\", df.columns)\n",
        "\n",
        "# Ensure 'Close' column exists before filtering\n",
        "if 'Close' in df.columns:\n",
        "    data = df[['Close']].copy()  # Use double brackets to maintain DataFrame structure\n",
        "else:\n",
        "    raise KeyError(\"Column 'Close' not found in dataset! Check available columns.\")\n",
        "\n",
        "# Print dataset shape to verify\n",
        "print(\"Dataset Shape:\", data.shape)  # Should be (rows, 1)\n",
        "\n",
        "# Convert DataFrame to NumPy array\n",
        "dataset = data.values\n",
        "\n",
        "# Ensure dataset is not empty\n",
        "if dataset.size == 0:\n",
        "    raise ValueError(\"Dataset is empty! Please check data source.\")\n",
        "\n",
        "# Define the number of rows for training (85% of total data)\n",
        "training_data_len = math.ceil(len(dataset) * 0.85)\n",
        "print(f\"Training Data Length: {training_data_len}\")\n",
        "\n",
        "# Scale data using MinMaxScaler\n",
        "scaler = MinMaxScaler(feature_range=(0, 1))\n",
        "scaled_data = scaler.fit_transform(dataset)\n",
        "\n",
        "# Print scaled data shape\n",
        "print(\"Scaled Data Shape:\", scaled_data.shape)  # Should match dataset shape\n"
      ],
      "metadata": {
        "colab": {
          "base_uri": "https://localhost:8080/"
        },
        "id": "o3-K7OzwKB34",
        "outputId": "9c7c90c5-f882-42b2-f4c2-bbb7ad3c9f8b"
      },
      "execution_count": null,
      "outputs": [
        {
          "output_type": "stream",
          "name": "stderr",
          "text": [
            "\r[*********************100%***********************]  1 of 1 completed"
          ]
        },
        {
          "output_type": "stream",
          "name": "stdout",
          "text": [
            "Available columns: MultiIndex([('Adj Close', 'TSLA'),\n",
            "            (    'Close', 'TSLA'),\n",
            "            (     'High', 'TSLA'),\n",
            "            (      'Low', 'TSLA'),\n",
            "            (     'Open', 'TSLA'),\n",
            "            (   'Volume', 'TSLA')],\n",
            "           names=['Price', 'Ticker'])\n",
            "Dataset Shape: (3451, 1)\n",
            "Training Data Length: 2934\n",
            "Scaled Data Shape: (3451, 1)\n"
          ]
        },
        {
          "output_type": "stream",
          "name": "stderr",
          "text": [
            "\n"
          ]
        }
      ]
    },
    {
      "cell_type": "code",
      "source": [
        "#Visualize the closing price history\n",
        "plt.figure(figsize=(18,5))\n",
        "plt.title('Close Price History')\n",
        "plt.plot(df['Close'])\n",
        "plt.xlabel('Data', fontsize=15 )\n",
        "plt.ylabel('Close Price USD ($)', fontsize=15)\n",
        "plt.show()"
      ],
      "metadata": {
        "colab": {
          "base_uri": "https://localhost:8080/",
          "height": 448
        },
        "id": "tIOxcKNh8lt5",
        "outputId": "896bc97f-7a43-4999-a890-e17e256be592"
      },
      "execution_count": null,
      "outputs": [
        {
          "output_type": "display_data",
          "data": {
            "text/plain": [
              "<Figure size 1800x500 with 1 Axes>"
            ],
            "image/png": "[encoded data removed]"
          },
          "metadata": {}
        }
      ]
    },
    {
      "cell_type": "code",
      "source": [
        "#Create the scaled training data set\n",
        "train_data = scaled_data[0:training_data_len  , : ]\n",
        "#Split the data into x_train and y_train data sets\n",
        "x_train=[]\n",
        "y_train = []\n",
        "for i in range(180,len(train_data)):\n",
        "    x_train.append(train_data[i-180:i,0])\n",
        "    y_train.append(train_data[i,0])\n",
        "\n",
        "    if i<=180:\n",
        "      print(x_train)\n",
        "      print(y_train)\n",
        "      print()"
      ],
      "metadata": {
        "colab": {
          "base_uri": "https://localhost:8080/"
        },
        "id": "tMs-12A7K0qs",
        "outputId": "614d26d9-0cd2-4de3-8620-eb40c7002cc4"
      },
      "execution_count": null,
      "outputs": [
        {
          "output_type": "stream",
          "name": "stdout",
          "text": [
            "[array([9.85236787e-04, 1.00195935e-03, 9.76875632e-04, 1.08417770e-03,\n",
            "       9.55972496e-04, 8.91868647e-04, 8.66784933e-04, 9.32280729e-04,\n",
            "       7.88747155e-04, 7.84566578e-04, 7.35791098e-04, 8.27765048e-04,\n",
            "       9.39249937e-04, 9.40642133e-04, 1.02286248e-03, 9.11377593e-04,\n",
            "       8.43095410e-04, 7.92927733e-04, 8.66784933e-04, 8.66784933e-04,\n",
            "       9.50397479e-04, 7.51121460e-04, 7.31610521e-04, 3.90192876e-04,\n",
            "       3.19122312e-04, 2.35509517e-04, 4.33393588e-04, 2.60593480e-04,\n",
            "       4.66838457e-04, 6.07585643e-04, 5.96438101e-04, 5.78321352e-04,\n",
            "       5.40695657e-04, 3.21908699e-04, 4.87754800e-05, 0.00000000e+00,\n",
            "       1.40749180e-04, 2.67560445e-04, 1.61652566e-04, 2.48051499e-04,\n",
            "       3.84618108e-04, 3.73470317e-04, 3.88798685e-04, 2.85677194e-04,\n",
            "       1.56077549e-04, 1.37960800e-04, 2.63379867e-04, 2.31328940e-04,\n",
            "       1.42141377e-04, 1.29599645e-04, 2.96824736e-04, 3.33058234e-04,\n",
            "       3.99948470e-04, 5.36515079e-04, 5.32334502e-04, 5.65779371e-04,\n",
            "       5.43482044e-04, 5.12825556e-04, 6.17341238e-04, 4.97495194e-04,\n",
            "       5.90863334e-04, 3.67895549e-04, 3.02399753e-04, 3.40025448e-04,\n",
            "       2.48051499e-04, 2.38295904e-04, 4.76592057e-04, 6.98165403e-04,\n",
            "       7.02345980e-04, 8.26372851e-04, 7.88747155e-04, 8.15223066e-04,\n",
            "       8.34734006e-04, 8.50062374e-04, 7.62269002e-04, 8.90474457e-04,\n",
            "       7.83172388e-04, 7.51121460e-04, 8.47275987e-04, 9.19738748e-04,\n",
            "       8.77932475e-04, 8.40306780e-04, 9.49003288e-04, 1.10368665e-03,\n",
            "       1.03401002e-03, 9.65725847e-04, 9.42036324e-04, 1.46461523e-03,\n",
            "       1.44371210e-03, 1.29878408e-03, 1.37821630e-03, 1.24443583e-03,\n",
            "       1.30714524e-03, 1.62905394e-03, 1.57052535e-03, 1.66946627e-03,\n",
            "       1.81021345e-03, 1.63462671e-03, 1.48412393e-03, 1.36706626e-03,\n",
            "       1.41026698e-03, 1.32386804e-03, 1.35313234e-03, 1.47855115e-03,\n",
            "       1.36567432e-03, 1.50363512e-03, 1.48412393e-03, 1.58167289e-03,\n",
            "       1.73775044e-03, 1.80045985e-03, 1.70569777e-03, 1.24582827e-03,\n",
            "       1.26673141e-03, 1.17893804e-03, 1.04515782e-03, 9.16952361e-04,\n",
            "       9.29494342e-04, 8.43095410e-04, 8.08256101e-04, 8.29159238e-04,\n",
            "       7.83172388e-04, 8.11042489e-04, 8.29159238e-04, 9.22527378e-04,\n",
            "       9.14165974e-04, 9.44822711e-04, 9.21133187e-04, 8.54242952e-04,\n",
            "       8.02681085e-04, 7.20462729e-04, 6.91198438e-04, 7.38579479e-04,\n",
            "       7.90139352e-04, 8.75146088e-04, 8.77932475e-04, 1.17057663e-04,\n",
            "       6.47997726e-04, 6.77262266e-04, 6.70295302e-04, 6.47997726e-04,\n",
            "       6.71689492e-04, 7.62269002e-04, 8.38914832e-04, 9.74087002e-04,\n",
            "       1.02843526e-03, 1.06188037e-03, 9.92203751e-04, 1.06327456e-03,\n",
            "       1.15664246e-03, 1.28206177e-03, 1.37264103e-03, 1.34477118e-03,\n",
            "       1.39075828e-03, 1.48133754e-03, 1.27509256e-03, 1.32944082e-03,\n",
            "       1.56355615e-03, 1.62347917e-03, 1.70430533e-03, 1.81439378e-03,\n",
            "       1.74889799e-03, 1.70987810e-03, 1.75307881e-03, 1.64438230e-03,\n",
            "       1.62626555e-03, 1.65274346e-03, 1.59700126e-03, 1.73635600e-03,\n",
            "       1.68479414e-03, 1.64716869e-03, 1.55519499e-03, 1.55658893e-03,\n",
            "       1.54962222e-03, 1.78234310e-03, 1.95932379e-03, 1.97047133e-03,\n",
            "       1.85898893e-03, 1.81857461e-03, 1.86316926e-03, 1.81578822e-03])]\n",
            "[np.float64(0.00181300183429968)]\n",
            "\n"
          ]
        }
      ]
    },
    {
      "cell_type": "code",
      "source": [
        "len(train_data)"
      ],
      "metadata": {
        "colab": {
          "base_uri": "https://localhost:8080/"
        },
        "id": "e7HqSXl0KuRN",
        "outputId": "40191135-ba82-497a-fdad-1355f41c7c09"
      },
      "execution_count": null,
      "outputs": [
        {
          "output_type": "execute_result",
          "data": {
            "text/plain": [
              "2934"
            ]
          },
          "metadata": {},
          "execution_count": 7
        }
      ]
    },
    {
      "cell_type": "code",
      "source": [
        "x_train, y_train = np.array(x_train), np.array(y_train)\n"
      ],
      "metadata": {
        "id": "OAgrd0MjLEmZ"
      },
      "execution_count": null,
      "outputs": []
    },
    {
      "cell_type": "code",
      "source": [
        "#Reshape the data into the shape accepted by the LSTM\n",
        "x_train = np.reshape(x_train, (x_train.shape[0],x_train.shape[1],1))\n",
        "x_train.shape"
      ],
      "metadata": {
        "colab": {
          "base_uri": "https://localhost:8080/"
        },
        "id": "AhIArc-5LFjd",
        "outputId": "139f8ec2-5f50-4ecd-e80d-3d6e51b084b3"
      },
      "execution_count": null,
      "outputs": [
        {
          "output_type": "execute_result",
          "data": {
            "text/plain": [
              "(2754, 180, 1)"
            ]
          },
          "metadata": {},
          "execution_count": 9
        }
      ]
    },
    {
      "cell_type": "code",
      "source": [
        "#Build the LSTM network model\n",
        "model = Sequential()\n",
        "model.add(LSTM(units=50, return_sequences=True,input_shape=(x_train.shape[1],1)))\n",
        "model.add(LSTM(units=50, return_sequences=False))\n",
        "model.add(Dense(units=25))\n",
        "model.add(Dense(units=1))"
      ],
      "metadata": {
        "colab": {
          "base_uri": "https://localhost:8080/"
        },
        "id": "1IhErQrXLJu0",
        "outputId": "f4adfe4e-0d49-41dd-e32e-79ef10d0d774"
      },
      "execution_count": null,
      "outputs": [
        {
          "output_type": "stream",
          "name": "stderr",
          "text": [
            "/usr/local/lib/python3.11/dist-packages/keras/src/layers/rnn/rnn.py:200: UserWarning: Do not pass an `input_shape`/`input_dim` argument to a layer. When using Sequential models, prefer using an `Input(shape)` object as the first layer in the model instead.\n",
            "  super().__init__(**kwargs)\n"
          ]
        }
      ]
    },
    {
      "cell_type": "code",
      "source": [
        "model.compile(optimizer='adam', loss='mean_squared_error')\n"
      ],
      "metadata": {
        "id": "DhFsPvxKLSbj"
      },
      "execution_count": null,
      "outputs": []
    },
    {
      "cell_type": "code",
      "source": [
        "model.fit(x_train, y_train, batch_size=1, epochs=1)\n"
      ],
      "metadata": {
        "colab": {
          "base_uri": "https://localhost:8080/"
        },
        "id": "4ctWe_1oLf1v",
        "outputId": "912fec32-94cc-43f1-a927-b490087f628d"
      },
      "execution_count": null,
      "outputs": [
        {
          "output_type": "stream",
          "name": "stdout",
          "text": [
            "\u001b[1m2754/2754\u001b[0m \u001b[32m━━━━━━━━━━━━━━━━━━━━\u001b[0m\u001b[37m\u001b[0m \u001b[1m231s\u001b[0m 81ms/step - loss: 0.0019\n"
          ]
        },
        {
          "output_type": "execute_result",
          "data": {
            "text/plain": [
              "<keras.src.callbacks.history.History at 0x7ca3844ce490>"
            ]
          },
          "metadata": {},
          "execution_count": 12
        }
      ]
    },
    {
      "cell_type": "code",
      "source": [
        "#Test data set\n",
        "test_data = scaled_data[training_data_len - 180: , : ]\n",
        "#Create the x_test and y_test data sets\n",
        "x_test = []\n",
        "y_test =  dataset[training_data_len : , : ]\n",
        "for i in range(180,len(test_data)):\n",
        "    x_test.append(test_data[i-180:i,0])"
      ],
      "metadata": {
        "id": "XWf-fjciMWNY"
      },
      "execution_count": null,
      "outputs": []
    },
    {
      "cell_type": "code",
      "source": [
        "x_test = np.array(x_test)\n"
      ],
      "metadata": {
        "id": "uvnh15lNMYDN"
      },
      "execution_count": null,
      "outputs": []
    },
    {
      "cell_type": "code",
      "source": [
        "x_test = np.reshape(x_test, (x_test.shape[0],x_test.shape[1],1))\n"
      ],
      "metadata": {
        "id": "_zKtFWTKMal0"
      },
      "execution_count": null,
      "outputs": []
    },
    {
      "cell_type": "code",
      "source": [
        "#Getting the models predicted price values\n",
        "predictions = model.predict(x_test)\n",
        "predictions = scaler.inverse_transform(predictions)\n",
        "#Undo scaling"
      ],
      "metadata": {
        "colab": {
          "base_uri": "https://localhost:8080/"
        },
        "id": "XEtG_tfuMsNc",
        "outputId": "64ad790c-f2b6-4989-aafc-489434c8ae00"
      },
      "execution_count": null,
      "outputs": [
        {
          "output_type": "stream",
          "name": "stdout",
          "text": [
            "\u001b[1m17/17\u001b[0m \u001b[32m━━━━━━━━━━━━━━━━━━━━\u001b[0m\u001b[37m\u001b[0m \u001b[1m1s\u001b[0m 57ms/step\n"
          ]
        }
      ]
    },
    {
      "cell_type": "code",
      "source": [
        "\n",
        "#Calculate/Get the value of RMSE\n",
        "rmse=np.sqrt(np.mean(((predictions- y_test)**2)))\n",
        "rmse"
      ],
      "metadata": {
        "colab": {
          "base_uri": "https://localhost:8080/"
        },
        "id": "p-Av8KmFM0jY",
        "outputId": "96f98f79-571c-4ce9-b041-ce467be8b500"
      },
      "execution_count": null,
      "outputs": [
        {
          "output_type": "execute_result",
          "data": {
            "text/plain": [
              "np.float64(15.340916382747317)"
            ]
          },
          "metadata": {},
          "execution_count": 17
        }
      ]
    },
    {
      "cell_type": "code",
      "source": [
        "#Create the data for the graph\n",
        "train = data[:training_data_len]\n",
        "valid = data[training_data_len:]\n",
        "valid['Predictions'] = predictions\n",
        "#Visualize the data\n",
        "plt.figure(figsize=(10,5))\n",
        "plt.title('Model')\n",
        "plt.xlabel('Date', fontsize=8)\n",
        "plt.ylabel('Close Price USD ($)', fontsize=12)\n",
        "plt.plot(train['Close'])\n",
        "plt.plot(valid[['Close', 'Predictions']])\n",
        "plt.legend(['Train', 'Val', 'Predictions'], loc='lower right')\n",
        "plt.show()"
      ],
      "metadata": {
        "colab": {
          "base_uri": "https://localhost:8080/"
        },
        "id": "J5OhnM1oM3Ki",
        "outputId": "8de9b90b-c743-4a52-a86a-3d854e63783c"
      },
      "execution_count": null,
      "outputs": [
        {
          "output_type": "stream",
          "name": "stderr",
          "text": [
            "<ipython-input-18-7d95dd1371f6>:4: SettingWithCopyWarning: \n",
            "A value is trying to be set on a copy of a slice from a DataFrame.\n",
            "Try using .loc[row_indexer,col_indexer] = value instead\n",
            "\n",
            "See the caveats in the documentation: https://pandas.pydata.org/pandas-docs/stable/user_guide/indexing.html#returning-a-view-versus-a-copy\n",
            "  valid['Predictions'] = predictions\n"
          ]
        },
        {
          "output_type": "display_data",
          "data": {
            "text/plain": [
              "<Figure size 1000x500 with 1 Axes>"
            ],
            "image/png": "[encoded data removed]"
          },
          "metadata": {}
        }
      ]
    },
    {
      "cell_type": "code",
      "source": [
        "valid"
      ],
      "metadata": {
        "colab": {
          "base_uri": "https://localhost:8080/",
          "height": 486
        },
        "id": "uv6ph2EqQNg9",
        "outputId": "cf79bd91-a3a3-4cbf-fde5-5794bebf59b0"
      },
      "execution_count": null,
      "outputs": [
        {
          "output_type": "execute_result",
          "data": {
            "text/plain": [
              "Price            Close Predictions\n",
              "Ticker            TSLA            \n",
              "Date                              \n",
              "2023-03-01  202.770004  201.658646\n",
              "2023-03-02  190.899994  202.099121\n",
              "2023-03-03  197.789993  200.315643\n",
              "2023-03-06  193.809998  199.105804\n",
              "2023-03-07  187.710007  197.665024\n",
              "...                ...         ...\n",
              "2025-03-17  238.009995  244.133896\n",
              "2025-03-18  225.309998  243.073242\n",
              "2025-03-19  235.860001  239.728378\n",
              "2025-03-20  236.259995  237.830124\n",
              "2025-03-21  248.710007  236.841843\n",
              "\n",
              "[517 rows x 2 columns]"
            ],
            "text/html": [
              "\n",
              "  <div id=\"df-94ae61db-27fa-4522-b27f-9dd581f37335\" class=\"colab-df-container\">\n",
              "    <div>\n",
              "<style scoped>\n",
              "    .dataframe tbody tr th:only-of-type {\n",
              "        vertical-align: middle;\n",
              "    }\n",
              "\n",
              "    .dataframe tbody tr th {\n",
              "        vertical-align: top;\n",
              "    }\n",
              "\n",
              "    .dataframe thead tr th {\n",
              "        text-align: left;\n",
              "    }\n",
              "\n",
              "    .dataframe thead tr:last-of-type th {\n",
              "        text-align: right;\n",
              "    }\n",
              "</style>\n",
              "<table border=\"1\" class=\"dataframe\">\n",
              "  <thead>\n",
              "    <tr>\n",
              "      <th>Price</th>\n",
              "      <th>Close</th>\n",
              "      <th>Predictions</th>\n",
              "    </tr>\n",
              "    <tr>\n",
              "      <th>Ticker</th>\n",
              "      <th>TSLA</th>\n",
              "      <th></th>\n",
              "    </tr>\n",
              "    <tr>\n",
              "      <th>Date</th>\n",
              "      <th></th>\n",
              "      <th></th>\n",
              "    </tr>\n",
              "  </thead>\n",
              "  <tbody>\n",
              "    <tr>\n",
              "      <th>2023-03-01</th>\n",
              "      <td>202.770004</td>\n",
              "      <td>201.658646</td>\n",
              "    </tr>\n",
              "    <tr>\n",
              "      <th>2023-03-02</th>\n",
              "      <td>190.899994</td>\n",
              "      <td>202.099121</td>\n",
              "    </tr>\n",
              "    <tr>\n",
              "      <th>2023-03-03</th>\n",
              "      <td>197.789993</td>\n",
              "      <td>200.315643</td>\n",
              "    </tr>\n",
              "    <tr>\n",
              "      <th>2023-03-06</th>\n",
              "      <td>193.809998</td>\n",
              "      <td>199.105804</td>\n",
              "    </tr>\n",
              "    <tr>\n",
              "      <th>2023-03-07</th>\n",
              "      <td>187.710007</td>\n",
              "      <td>197.665024</td>\n",
              "    </tr>\n",
              "    <tr>\n",
              "      <th>...</th>\n",
              "      <td>...</td>\n",
              "      <td>...</td>\n",
              "    </tr>\n",
              "    <tr>\n",
              "      <th>2025-03-17</th>\n",
              "      <td>238.009995</td>\n",
              "      <td>244.133896</td>\n",
              "    </tr>\n",
              "    <tr>\n",
              "      <th>2025-03-18</th>\n",
              "      <td>225.309998</td>\n",
              "      <td>243.073242</td>\n",
              "    </tr>\n",
              "    <tr>\n",
              "      <th>2025-03-19</th>\n",
              "      <td>235.860001</td>\n",
              "      <td>239.728378</td>\n",
              "    </tr>\n",
              "    <tr>\n",
              "      <th>2025-03-20</th>\n",
              "      <td>236.259995</td>\n",
              "      <td>237.830124</td>\n",
              "    </tr>\n",
              "    <tr>\n",
              "      <th>2025-03-21</th>\n",
              "      <td>248.710007</td>\n",
              "      <td>236.841843</td>\n",
              "    </tr>\n",
              "  </tbody>\n",
              "</table>\n",
              "<p>517 rows × 2 columns</p>\n",
              "</div>\n",
              "    <div class=\"colab-df-buttons\">\n",
              "\n",
              "  <div class=\"colab-df-container\">\n",
              "    <button class=\"colab-df-convert\" onclick=\"convertToInteractive('df-94ae61db-27fa-4522-b27f-9dd581f37335')\"\n",
              "            title=\"Convert this dataframe to an interactive table.\"\n",
              "            style=\"display:none;\">\n",
              "\n",
              "  <svg xmlns=\"http://www.w3.org/2000/svg\" height=\"24px\" viewBox=\"0 -960 960 960\">\n",
              "    <path d=\"M120-120v-720h720v720H120Zm60-500h600v-160H180v160Zm220 220h160v-160H400v160Zm0 220h160v-160H400v160ZM180-400h160v-160H180v160Zm440 0h160v-160H620v160ZM180-180h160v-160H180v160Zm440 0h160v-160H620v160Z\"/>\n",
              "  </svg>\n",
              "    </button>\n",
              "\n",
              "  <style>\n",
              "    .colab-df-container {\n",
              "      display:flex;\n",
              "      gap: 12px;\n",
              "    }\n",
              "\n",
              "    .colab-df-convert {\n",
              "      background-color: #E8F0FE;\n",
              "      border: none;\n",
              "      border-radius: 50%;\n",
              "      cursor: pointer;\n",
              "      display: none;\n",
              "      fill: #1967D2;\n",
              "      height: 32px;\n",
              "      padding: 0 0 0 0;\n",
              "      width: 32px;\n",
              "    }\n",
              "\n",
              "    .colab-df-convert:hover {\n",
              "      background-color: #E2EBFA;\n",
              "      box-shadow: 0px 1px 2px rgba(60, 64, 67, 0.3), 0px 1px 3px 1px rgba(60, 64, 67, 0.15);\n",
              "      fill: #174EA6;\n",
              "    }\n",
              "\n",
              "    .colab-df-buttons div {\n",
              "      margin-bottom: 4px;\n",
              "    }\n",
              "\n",
              "    [theme=dark] .colab-df-convert {\n",
              "      background-color: #3B4455;\n",
              "      fill: #D2E3FC;\n",
              "    }\n",
              "\n",
              "    [theme=dark] .colab-df-convert:hover {\n",
              "      background-color: #434B5C;\n",
              "      box-shadow: 0px 1px 3px 1px rgba(0, 0, 0, 0.15);\n",
              "      filter: drop-shadow(0px 1px 2px rgba(0, 0, 0, 0.3));\n",
              "      fill: #FFFFFF;\n",
              "    }\n",
              "  </style>\n",
              "\n",
              "    <script>\n",
              "      const buttonEl =\n",
              "        document.querySelector('#df-94ae61db-27fa-4522-b27f-9dd581f37335 button.colab-df-convert');\n",
              "      buttonEl.style.display =\n",
              "        google.colab.kernel.accessAllowed ? 'block' : 'none';\n",
              "\n",
              "      async function convertToInteractive(key) {\n",
              "        const element = document.querySelector('#df-94ae61db-27fa-4522-b27f-9dd581f37335');\n",
              "        const dataTable =\n",
              "          await google.colab.kernel.invokeFunction('convertToInteractive',\n",
              "                                                    [key], {});\n",
              "        if (!dataTable) return;\n",
              "\n",
              "        const docLinkHtml = 'Like what you see? Visit the ' +\n",
              "          '<a target=\"_blank\" href=https://colab.research.google.com/notebooks/data_table.ipynb>data table notebook</a>'\n",
              "          + ' to learn more about interactive tables.';\n",
              "        element.innerHTML = '';\n",
              "        dataTable['output_type'] = 'display_data';\n",
              "        await google.colab.output.renderOutput(dataTable, element);\n",
              "        const docLink = document.createElement('div');\n",
              "        docLink.innerHTML = docLinkHtml;\n",
              "        element.appendChild(docLink);\n",
              "      }\n",
              "    </script>\n",
              "  </div>\n",
              "\n",
              "\n",
              "<div id=\"df-a9c9b639-423c-4ea7-abd7-3ad2effb95e7\">\n",
              "  <button class=\"colab-df-quickchart\" onclick=\"quickchart('df-a9c9b639-423c-4ea7-abd7-3ad2effb95e7')\"\n",
              "            title=\"Suggest charts\"\n",
              "            style=\"display:none;\">\n",
              "\n",
              "<svg xmlns=\"http://www.w3.org/2000/svg\" height=\"24px\"viewBox=\"0 0 24 24\"\n",
              "     width=\"24px\">\n",
              "    <g>\n",
              "        <path d=\"M19 3H5c-1.1 0-2 .9-2 2v14c0 1.1.9 2 2 2h14c1.1 0 2-.9 2-2V5c0-1.1-.9-2-2-2zM9 17H7v-7h2v7zm4 0h-2V7h2v10zm4 0h-2v-4h2v4z\"/>\n",
              "    </g>\n",
              "</svg>\n",
              "  </button>\n",
              "\n",
              "<style>\n",
              "  .colab-df-quickchart {\n",
              "      --bg-color: #E8F0FE;\n",
              "      --fill-color: #1967D2;\n",
              "      --hover-bg-color: #E2EBFA;\n",
              "      --hover-fill-color: #174EA6;\n",
              "      --disabled-fill-color: #AAA;\n",
              "      --disabled-bg-color: #DDD;\n",
              "  }\n",
              "\n",
              "  [theme=dark] .colab-df-quickchart {\n",
              "      --bg-color: #3B4455;\n",
              "      --fill-color: #D2E3FC;\n",
              "      --hover-bg-color: #434B5C;\n",
              "      --hover-fill-color: #FFFFFF;\n",
              "      --disabled-bg-color: #3B4455;\n",
              "      --disabled-fill-color: #666;\n",
              "  }\n",
              "\n",
              "  .colab-df-quickchart {\n",
              "    background-color: var(--bg-color);\n",
              "    border: none;\n",
              "    border-radius: 50%;\n",
              "    cursor: pointer;\n",
              "    display: none;\n",
              "    fill: var(--fill-color);\n",
              "    height: 32px;\n",
              "    padding: 0;\n",
              "    width: 32px;\n",
              "  }\n",
              "\n",
              "  .colab-df-quickchart:hover {\n",
              "    background-color: var(--hover-bg-color);\n",
              "    box-shadow: 0 1px 2px rgba(60, 64, 67, 0.3), 0 1px 3px 1px rgba(60, 64, 67, 0.15);\n",
              "    fill: var(--button-hover-fill-color);\n",
              "  }\n",
              "\n",
              "  .colab-df-quickchart-complete:disabled,\n",
              "  .colab-df-quickchart-complete:disabled:hover {\n",
              "    background-color: var(--disabled-bg-color);\n",
              "    fill: var(--disabled-fill-color);\n",
              "    box-shadow: none;\n",
              "  }\n",
              "\n",
              "  .colab-df-spinner {\n",
              "    border: 2px solid var(--fill-color);\n",
              "    border-color: transparent;\n",
              "    border-bottom-color: var(--fill-color);\n",
              "    animation:\n",
              "      spin 1s steps(1) infinite;\n",
              "  }\n",
              "\n",
              "  @keyframes spin {\n",
              "    0% {\n",
              "      border-color: transparent;\n",
              "      border-bottom-color: var(--fill-color);\n",
              "      border-left-color: var(--fill-color);\n",
              "    }\n",
              "    20% {\n",
              "      border-color: transparent;\n",
              "      border-left-color: var(--fill-color);\n",
              "      border-top-color: var(--fill-color);\n",
              "    }\n",
              "    30% {\n",
              "      border-color: transparent;\n",
              "      border-left-color: var(--fill-color);\n",
              "      border-top-color: var(--fill-color);\n",
              "      border-right-color: var(--fill-color);\n",
              "    }\n",
              "    40% {\n",
              "      border-color: transparent;\n",
              "      border-right-color: var(--fill-color);\n",
              "      border-top-color: var(--fill-color);\n",
              "    }\n",
              "    60% {\n",
              "      border-color: transparent;\n",
              "      border-right-color: var(--fill-color);\n",
              "    }\n",
              "    80% {\n",
              "      border-color: transparent;\n",
              "      border-right-color: var(--fill-color);\n",
              "      border-bottom-color: var(--fill-color);\n",
              "    }\n",
              "    90% {\n",
              "      border-color: transparent;\n",
              "      border-bottom-color: var(--fill-color);\n",
              "    }\n",
              "  }\n",
              "</style>\n",
              "\n",
              "  <script>\n",
              "    async function quickchart(key) {\n",
              "      const quickchartButtonEl =\n",
              "        document.querySelector('#' + key + ' button');\n",
              "      quickchartButtonEl.disabled = true;  // To prevent multiple clicks.\n",
              "      quickchartButtonEl.classList.add('colab-df-spinner');\n",
              "      try {\n",
              "        const charts = await google.colab.kernel.invokeFunction(\n",
              "            'suggestCharts', [key], {});\n",
              "      } catch (error) {\n",
              "        console.error('Error during call to suggestCharts:', error);\n",
              "      }\n",
              "      quickchartButtonEl.classList.remove('colab-df-spinner');\n",
              "      quickchartButtonEl.classList.add('colab-df-quickchart-complete');\n",
              "    }\n",
              "    (() => {\n",
              "      let quickchartButtonEl =\n",
              "        document.querySelector('#df-a9c9b639-423c-4ea7-abd7-3ad2effb95e7 button');\n",
              "      quickchartButtonEl.style.display =\n",
              "        google.colab.kernel.accessAllowed ? 'block' : 'none';\n",
              "    })();\n",
              "  </script>\n",
              "</div>\n",
              "\n",
              "  <div id=\"id_47be51b8-26c5-42a5-b722-ec25915eca12\">\n",
              "    <style>\n",
              "      .colab-df-generate {\n",
              "        background-color: #E8F0FE;\n",
              "        border: none;\n",
              "        border-radius: 50%;\n",
              "        cursor: pointer;\n",
              "        display: none;\n",
              "        fill: #1967D2;\n",
              "        height: 32px;\n",
              "        padding: 0 0 0 0;\n",
              "        width: 32px;\n",
              "      }\n",
              "\n",
              "      .colab-df-generate:hover {\n",
              "        background-color: #E2EBFA;\n",
              "        box-shadow: 0px 1px 2px rgba(60, 64, 67, 0.3), 0px 1px 3px 1px rgba(60, 64, 67, 0.15);\n",
              "        fill: #174EA6;\n",
              "      }\n",
              "\n",
              "      [theme=dark] .colab-df-generate {\n",
              "        background-color: #3B4455;\n",
              "        fill: #D2E3FC;\n",
              "      }\n",
              "\n",
              "      [theme=dark] .colab-df-generate:hover {\n",
              "        background-color: #434B5C;\n",
              "        box-shadow: 0px 1px 3px 1px rgba(0, 0, 0, 0.15);\n",
              "        filter: drop-shadow(0px 1px 2px rgba(0, 0, 0, 0.3));\n",
              "        fill: #FFFFFF;\n",
              "      }\n",
              "    </style>\n",
              "    <button class=\"colab-df-generate\" onclick=\"generateWithVariable('valid')\"\n",
              "            title=\"Generate code using this dataframe.\"\n",
              "            style=\"display:none;\">\n",
              "\n",
              "  <svg xmlns=\"http://www.w3.org/2000/svg\" height=\"24px\"viewBox=\"0 0 24 24\"\n",
              "       width=\"24px\">\n",
              "    <path d=\"M7,19H8.4L18.45,9,17,7.55,7,17.6ZM5,21V16.75L18.45,3.32a2,2,0,0,1,2.83,0l1.4,1.43a1.91,1.91,0,0,1,.58,1.4,1.91,1.91,0,0,1-.58,1.4L9.25,21ZM18.45,9,17,7.55Zm-12,3A5.31,5.31,0,0,0,4.9,8.1,5.31,5.31,0,0,0,1,6.5,5.31,5.31,0,0,0,4.9,4.9,5.31,5.31,0,0,0,6.5,1,5.31,5.31,0,0,0,8.1,4.9,5.31,5.31,0,0,0,12,6.5,5.46,5.46,0,0,0,6.5,12Z\"/>\n",
              "  </svg>\n",
              "    </button>\n",
              "    <script>\n",
              "      (() => {\n",
              "      const buttonEl =\n",
              "        document.querySelector('#id_47be51b8-26c5-42a5-b722-ec25915eca12 button.colab-df-generate');\n",
              "      buttonEl.style.display =\n",
              "        google.colab.kernel.accessAllowed ? 'block' : 'none';\n",
              "\n",
              "      buttonEl.onclick = () => {\n",
              "        google.colab.notebook.generateWithVariable('valid');\n",
              "      }\n",
              "      })();\n",
              "    </script>\n",
              "  </div>\n",
              "\n",
              "    </div>\n",
              "  </div>\n"
            ],
            "application/vnd.google.colaboratory.intrinsic+json": {
              "type": "dataframe",
              "variable_name": "valid",
              "summary": "{\n  \"name\": \"valid\",\n  \"rows\": 517,\n  \"fields\": [\n    {\n      \"column\": [\n        \"Date\",\n        \"\"\n      ],\n      \"properties\": {\n        \"dtype\": \"date\",\n        \"min\": \"2023-03-01 00:00:00\",\n        \"max\": \"2025-03-21 00:00:00\",\n        \"num_unique_values\": 517,\n        \"samples\": [\n          \"2024-05-15 00:00:00\",\n          \"2025-02-28 00:00:00\",\n          \"2024-11-29 00:00:00\"\n        ],\n        \"semantic_type\": \"\",\n        \"description\": \"\"\n      }\n    },\n    {\n      \"column\": [\n        \"Close\",\n        \"TSLA\"\n      ],\n      \"properties\": {\n        \"dtype\": \"number\",\n        \"std\": 67.66821205066466,\n        \"min\": 142.0500030517578,\n        \"max\": 479.8599853515625,\n        \"num_unique_values\": 509,\n        \"samples\": [\n          256.6000061035156,\n          177.47999572753906,\n          360.55999755859375\n        ],\n        \"semantic_type\": \"\",\n        \"description\": \"\"\n      }\n    },\n    {\n      \"column\": [\n        \"Predictions\",\n        \"\"\n      ],\n      \"properties\": {\n        \"dtype\": \"float32\",\n        \"num_unique_values\": 517,\n        \"samples\": [\n          173.98712158203125,\n          305.7593688964844,\n          329.7428894042969\n        ],\n        \"semantic_type\": \"\",\n        \"description\": \"\"\n      }\n    }\n  ]\n}"
            }
          },
          "metadata": {},
          "execution_count": 19
        }
      ]
    },
    {
      "cell_type": "code",
      "source": [
        "# Fetch Tesla stock data\n",
        "tesla_quote = yf.download('TSLA', start='2024-06-01', end='2025-03-22')\n",
        "\n",
        "# Check available columns\n",
        "print(\"Available columns:\", tesla_quote.columns)\n",
        "\n",
        "# Ensure 'Close' column exists before filtering\n",
        "if 'Close' in tesla_quote.columns:\n",
        "    new_df = tesla_quote[['Close']].copy()  # Proper selection\n",
        "else:\n",
        "    raise KeyError(\"Column 'Close' not found in dataset! Check available columns.\")\n",
        "\n",
        "# Print dataset shape to verify\n",
        "print(\"Dataset Shape:\", new_df.shape)  # Should be (rows, 1)\n",
        "\n",
        "# Get the last 180 days closing prices\n",
        "last_180_days = new_df[-180:].values\n",
        "\n",
        "# Ensure dataset is not empty\n",
        "if last_180_days.size == 0:\n",
        "    raise ValueError(\"⚠️ No data available for the last 180 days! Check data source.\")\n",
        "\n",
        "# Scale the data to be values between 0 and 1\n",
        "scaler = MinMaxScaler(feature_range=(0, 1))\n",
        "last_180_days_scaled = scaler.fit_transform(last_180_days)  # Ensure it's fitted before transforming\n",
        "\n",
        "# Create input dataset\n",
        "X_test = []\n",
        "X_test.append(last_180_days_scaled)\n",
        "\n",
        "# Convert to NumPy array\n",
        "X_test = np.array(X_test)\n",
        "\n",
        "# Reshape data for model input\n",
        "X_test = np.reshape(X_test, (X_test.shape[0], X_test.shape[1], 1))\n",
        "\n",
        "# Get the predicted scaled price\n",
        "pred_price = model.predict(X_test)\n",
        "\n",
        "# Undo the scaling\n",
        "pred_price = scaler.inverse_transform(pred_price)\n",
        "\n",
        "print(pred_price)\n"
      ],
      "metadata": {
        "colab": {
          "base_uri": "https://localhost:8080/"
        },
        "id": "2CNvjeFgM73f",
        "outputId": "8347de88-b0bc-4f49-e9a4-a5b79578f34a"
      },
      "execution_count": null,
      "outputs": [
        {
          "output_type": "stream",
          "name": "stderr",
          "text": [
            "\r[*********************100%***********************]  1 of 1 completed"
          ]
        },
        {
          "output_type": "stream",
          "name": "stdout",
          "text": [
            "YF.download() has changed argument auto_adjust default to True\n",
            "Available columns: MultiIndex([( 'Close', 'TSLA'),\n",
            "            (  'High', 'TSLA'),\n",
            "            (   'Low', 'TSLA'),\n",
            "            (  'Open', 'TSLA'),\n",
            "            ('Volume', 'TSLA')],\n",
            "           names=['Price', 'Ticker'])\n",
            "Dataset Shape: (201, 1)\n",
            "\u001b[1m1/1\u001b[0m \u001b[32m━━━━━━━━━━━━━━━━━━━━\u001b[0m\u001b[37m\u001b[0m \u001b[1m0s\u001b[0m 52ms/step\n",
            "[[241.40819]]\n"
          ]
        },
        {
          "output_type": "stream",
          "name": "stderr",
          "text": [
            "\n"
          ]
        }
      ]
    },
    {
      "cell_type": "code",
      "source": [
        "\n",
        "\n",
        "# Load trained model (Ensure the model is already trained in Colab)\n",
        "model = model  # Assuming model is already available in the Colab environment\n",
        "\n",
        "# Download more historical data to ensure we get at least 15 trading days\n",
        "latest_data = yf.download('TSLA', start='2025-02-20', end='2025-03-23')\n",
        "\n",
        "# Ensure we have at least 15 trading days\n",
        "latest_close = latest_data[['Close']].tail(15).values  # Get last 15 valid trading days\n",
        "if latest_close.shape[0] < 15:\n",
        "    raise ValueError(f\"Not enough historical data! Only {latest_close.shape[0]} days available.\")\n",
        "\n",
        "# Scale Data\n",
        "scaler = MinMaxScaler(feature_range=(0,1))\n",
        "scaled_data = scaler.fit_transform(latest_close)\n",
        "\n",
        "# Predict Future Prices\n",
        "future_dates = pd.date_range(start='2025-03-24', end='2025-03-28', freq='B')\n",
        "predictions = []\n",
        "last_input = scaled_data.reshape(1, 15, 1)\n",
        "for _ in range(len(future_dates)):\n",
        "    predicted_price = model.predict(last_input)\n",
        "    predictions.append(predicted_price[0, 0])\n",
        "    last_input = np.append(last_input[:, 1:, :], predicted_price.reshape(1, 1, 1), axis=1)\n",
        "\n",
        "# Convert back to original scale\n",
        "predictions = scaler.inverse_transform(np.array(predictions).reshape(-1, 1))\n",
        "\n",
        "# Create DataFrame for Trading Simulation\n",
        "predicted_df = pd.DataFrame({'Date': future_dates, 'Predicted_Close': predictions.flatten()})\n",
        "predicted_df.set_index('Date', inplace=True)\n",
        "print(\"Predicted Prices:\\n\", predicted_df)\n",
        "\n",
        "# Trading Simulation Parameters\n",
        "initial_balance = 10000\n",
        "balance = initial_balance\n",
        "holdings = 0\n",
        "transaction_fee = 0.01  # 1% fee\n",
        "# Adjusted trading parameters\n",
        "stop_loss_threshold = 0.97  # 3% stop-loss\n",
        "take_profit_threshold = 1.07  # 7% take-profit\n",
        "\n",
        "def simulate_trading(df):\n",
        "    global balance, holdings\n",
        "    buy_price = None  # Track last buy price for stop-loss/take-profit\n",
        "    print(\"Starting trading simulation...\")\n",
        "\n",
        "    for i in range(len(df)):\n",
        "        current_price = df['Predicted_Close'].iloc[i]\n",
        "        print(f\"{df.index[i]}: Current Price: ${current_price:.2f}, Balance: ${balance:.2f}, Holdings: {holdings:.2f}\")\n",
        "\n",
        "        # Stop-loss condition: Sell if price drops 3% below buy price\n",
        "        if holdings > 0 and buy_price and current_price < buy_price * stop_loss_threshold:\n",
        "            balance = holdings * current_price * (1 - transaction_fee)\n",
        "            holdings = 0\n",
        "            print(f\"{df.index[i]}:  Stop-loss triggered, Selling at ${current_price:.2f}, New Balance: ${balance:.2f}\")\n",
        "            buy_price = None  # Reset buy price\n",
        "            continue\n",
        "\n",
        "        # Take-profit condition: Sell if price increases 7% above buy price\n",
        "        if holdings > 0 and buy_price and current_price > buy_price * take_profit_threshold:\n",
        "            balance = holdings * current_price * (1 - transaction_fee)\n",
        "            holdings = 0\n",
        "            print(f\"{df.index[i]}:  Take-profit triggered, Selling at ${current_price:.2f}, New Balance: ${balance:.2f}\")\n",
        "            buy_price = None  # Reset buy price\n",
        "            continue\n",
        "\n",
        "        # Optimized Buy Condition: Buy only if price increase > 1% (reduces unnecessary trades)\n",
        "        if i > 0 and df['Predicted_Close'].iloc[i] > df['Predicted_Close'].iloc[i - 1] * 1.01:\n",
        "            if balance > 0:\n",
        "                holdings = (balance * (1 - transaction_fee)) / current_price\n",
        "                balance = 0\n",
        "                buy_price = current_price  # Store buy price\n",
        "                print(f\"{df.index[i]}:  Buying at ${current_price:.2f}, Holdings: {holdings:.2f} shares\")\n",
        "\n",
        "        # Optimized Sell Condition: Sell only if price drop > 0.5%\n",
        "        elif i > 0 and df['Predicted_Close'].iloc[i] < df['Predicted_Close'].iloc[i - 1] * 0.995:\n",
        "            if holdings > 0:\n",
        "                balance = holdings * current_price * (1 - transaction_fee)\n",
        "                holdings = 0\n",
        "                print(f\"{df.index[i]}:  Selling at ${current_price:.2f}, New Balance: ${balance:.2f}\")\n",
        "                buy_price = None  # Reset buy price\n",
        "\n",
        "    # Compute Final Balance\n",
        "    final_balance = balance + (holdings * df['Predicted_Close'].iloc[-1])\n",
        "    print(f\"\\n Final Account Balance: ${final_balance:.2f}\")\n",
        "    return final_balance\n",
        "\n",
        "final_balance = simulate_trading(predicted_df)\n",
        "\n",
        "# Performance Metrics\n",
        "print(\"\\n Performance Metrics:\")\n",
        "returns = np.diff(predicted_df['Predicted_Close']) / predicted_df['Predicted_Close'][:-1]\n",
        "sharpe_ratio = np.mean(returns) / np.std(returns)\n",
        "print(f\" Sharpe Ratio: {sharpe_ratio:.4f}\")\n",
        "print(f\" Profit: ${final_balance - initial_balance:.2f}\")\n"
      ],
      "metadata": {
        "id": "OY9H9DBEQZ3O",
        "colab": {
          "base_uri": "https://localhost:8080/"
        },
        "outputId": "5519ebf3-f784-4e3f-f3c3-31e7849686c3"
      },
      "execution_count": null,
      "outputs": [
        {
          "output_type": "stream",
          "name": "stderr",
          "text": [
            "\r[*********************100%***********************]  1 of 1 completed\n"
          ]
        },
        {
          "output_type": "stream",
          "name": "stdout",
          "text": [
            "\u001b[1m1/1\u001b[0m \u001b[32m━━━━━━━━━━━━━━━━━━━━\u001b[0m\u001b[37m\u001b[0m \u001b[1m0s\u001b[0m 333ms/step\n",
            "\u001b[1m1/1\u001b[0m \u001b[32m━━━━━━━━━━━━━━━━━━━━\u001b[0m\u001b[37m\u001b[0m \u001b[1m0s\u001b[0m 36ms/step\n",
            "\u001b[1m1/1\u001b[0m \u001b[32m━━━━━━━━━━━━━━━━━━━━\u001b[0m\u001b[37m\u001b[0m \u001b[1m0s\u001b[0m 35ms/step\n",
            "\u001b[1m1/1\u001b[0m \u001b[32m━━━━━━━━━━━━━━━━━━━━\u001b[0m\u001b[37m\u001b[0m \u001b[1m0s\u001b[0m 34ms/step\n",
            "\u001b[1m1/1\u001b[0m \u001b[32m━━━━━━━━━━━━━━━━━━━━\u001b[0m\u001b[37m\u001b[0m \u001b[1m0s\u001b[0m 35ms/step\n",
            "Predicted Prices:\n",
            "             Predicted_Close\n",
            "Date                       \n",
            "2025-03-24       238.250366\n",
            "2025-03-25       238.915451\n",
            "2025-03-26       239.215927\n",
            "2025-03-27       239.318359\n",
            "2025-03-28       239.342545\n",
            "Starting trading simulation...\n",
            "2025-03-24 00:00:00: Current Price: $238.25, Balance: $10000.00, Holdings: 0.00\n",
            "2025-03-25 00:00:00: Current Price: $238.92, Balance: $10000.00, Holdings: 0.00\n",
            "2025-03-26 00:00:00: Current Price: $239.22, Balance: $10000.00, Holdings: 0.00\n",
            "2025-03-27 00:00:00: Current Price: $239.32, Balance: $10000.00, Holdings: 0.00\n",
            "2025-03-28 00:00:00: Current Price: $239.34, Balance: $10000.00, Holdings: 0.00\n",
            "\n",
            "💰 Final Account Balance: $10000.00\n",
            "\n",
            "📊 Performance Metrics:\n",
            "📈 Sharpe Ratio: 1.1005\n",
            "💵 Profit: $0.00\n"
          ]
        }
      ]
    }
  ]
}